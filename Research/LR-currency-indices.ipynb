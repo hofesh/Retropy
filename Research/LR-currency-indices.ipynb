{
 "cells": [
  {
   "cell_type": "code",
   "execution_count": null,
   "metadata": {
    "ExecuteTime": {
     "end_time": "2018-08-20T14:34:06.962337Z",
     "start_time": "2018-08-20T14:34:06.510147Z"
    }
   },
   "outputs": [],
   "source": [
    "%run retropy.ipynb"
   ]
  },
  {
   "cell_type": "code",
   "execution_count": null,
   "metadata": {},
   "outputs": [],
   "source": [
    "# Currency data source\n",
    "# - \"CUR\" can only converty to/from USD\n",
    "# - \"IC\" has inconsistent direction vs USD\n",
    "# - \"CUR\" has decades of history data"
   ]
  },
  {
   "cell_type": "code",
   "execution_count": null,
   "metadata": {},
   "outputs": [],
   "source": [
    "# CUR data source has much more history data than \"IC\"\n",
    "show(get(usdMajorCurrencies, source=\"IC\"), get(usdMajorCurrencies, source=\"CUR\"), trim=False)"
   ]
  },
  {
   "cell_type": "code",
   "execution_count": null,
   "metadata": {},
   "outputs": [],
   "source": [
    "# the default \"IC\" source doesn't have consistent direction vs USD\n",
    "show(get(c, source=\"IC\") / get(c, source=\"CUR\") for c in usdMajorCurrencies)\n",
    "show(usdMajorCurrencies, source=\"CUR\")\n",
    "show(usdMajorCurrencies, source=\"IC\")"
   ]
  },
  {
   "cell_type": "code",
   "execution_count": null,
   "metadata": {},
   "outputs": [],
   "source": [
    "usdMajor, usdBroad, usdOther = get([usdMajor, usdBroad, usdOther], cache=False)"
   ]
  },
  {
   "cell_type": "code",
   "execution_count": null,
   "metadata": {
    "ExecuteTime": {
     "end_time": "2018-08-20T15:12:48.987974Z",
     "start_time": "2018-08-20T15:12:39.467542Z"
    }
   },
   "outputs": [],
   "source": [
    "# we use the \"CUR\" source, as the default \"IC\" source doesn't have consistent direction vs USD\n",
    "currencies = get(usdBroadCurrencies, source=\"CUR\", cache=False)\n",
    "show(currencies)"
   ]
  },
  {
   "cell_type": "code",
   "execution_count": null,
   "metadata": {
    "ExecuteTime": {
     "end_time": "2018-08-20T15:11:46.561138Z",
     "start_time": "2018-08-20T15:11:39.025239Z"
    }
   },
   "outputs": [],
   "source": [
    "# check how well each index if fitter by it's currencies, and see their weights\n",
    "lrret(usdMajor, get(usdMajorCurrencies, \"CUR\"))\n",
    "lrret(usdOther, get(usdOtherCurrencies, \"CUR\"))\n",
    "lrret(usdBroad, get(usdBroadCurrencies, \"CUR\"))"
   ]
  },
  {
   "cell_type": "code",
   "execution_count": null,
   "metadata": {
    "ExecuteTime": {
     "end_time": "2018-08-20T15:14:50.514970Z",
     "start_time": "2018-08-20T15:14:38.357473Z"
    }
   },
   "outputs": [],
   "source": [
    "show_rolling_beta(usdMajor, get(usdMajorCurrencies, \"CUR\"))\n",
    "show_rolling_beta(usdOther, get(usdOtherCurrencies, \"CUR\"))"
   ]
  },
  {
   "cell_type": "code",
   "execution_count": null,
   "metadata": {},
   "outputs": [],
   "source": [
    "show_rolling_beta(\"BHK\", get(usdMajorCurrencies, \"CUR\"), freq=\"W\")"
   ]
  },
  {
   "cell_type": "code",
   "execution_count": null,
   "metadata": {},
   "outputs": [],
   "source": []
  }
 ],
 "metadata": {
  "kernelspec": {
   "display_name": "Python 3",
   "language": "python",
   "name": "python3"
  },
  "language_info": {
   "codemirror_mode": {
    "name": "ipython",
    "version": 3
   },
   "file_extension": ".py",
   "mimetype": "text/x-python",
   "name": "python",
   "nbconvert_exporter": "python",
   "pygments_lexer": "ipython3",
   "version": "3.6.7"
  },
  "varInspector": {
   "cols": {
    "lenName": 16,
    "lenType": 16,
    "lenVar": 40
   },
   "kernels_config": {
    "python": {
     "delete_cmd_postfix": "",
     "delete_cmd_prefix": "del ",
     "library": "var_list.py",
     "varRefreshCmd": "print(var_dic_list())"
    },
    "r": {
     "delete_cmd_postfix": ") ",
     "delete_cmd_prefix": "rm(",
     "library": "var_list.r",
     "varRefreshCmd": "cat(var_dic_list()) "
    }
   },
   "types_to_exclude": [
    "module",
    "function",
    "builtin_function_or_method",
    "instance",
    "_Feature"
   ],
   "window_display": false
  }
 },
 "nbformat": 4,
 "nbformat_minor": 2
}
